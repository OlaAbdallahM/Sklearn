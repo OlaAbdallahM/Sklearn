{
 "cells": [
  {
   "cell_type": "markdown",
   "id": "523d53e6",
   "metadata": {},
   "source": [
    "\n",
    " \n",
    "\n",
    "\n",
    "### 1.3.5\tmetrics.accuracy_score\n",
    "### 1.3.6\tmetrics.f1_score\n",
    "### 1.3.7\tmetrics.recall_score\n",
    "### 1.3.8\tmetrics.precision_score\n",
    "### 1.3.9\tmetrics.precision_recall_fscore_support\n",
    "### 1.3.10\tmetrics.precision¬_recall_curve\n",
    "### 1.3.11\tmetrics.classification_report\n",
    "### 1.3.12\tmetrics.roc_curve\n",
    "### 1.3.13\t metrics.auc\n",
    "### 1.3.14\t metrics.roc_auc_score\n",
    "### 1.3.15\t metrics.zero_one_loss\n",
    "\n"
   ]
  },
  {
   "cell_type": "markdown",
   "id": "e0b75631",
   "metadata": {},
   "source": [
    "### 1.3.1\t metrics.mean_absolute_error\n",
    "### 1.3.2\t metrics.mean_squared_error\n",
    "### 1.3.3\t metrics.median_absolute_error"
   ]
  },
  {
   "cell_type": "code",
   "execution_count": 1,
   "id": "446299da",
   "metadata": {},
   "outputs": [
    {
     "data": {
      "text/plain": [
       "array([0.5, 1. ])"
      ]
     },
     "execution_count": 1,
     "metadata": {},
     "output_type": "execute_result"
    }
   ],
   "source": [
    "from sklearn.metrics import mean_absolute_error\n",
    "y_true = [3, -0.5, 2, 7]\n",
    "y_pred = [2.5, 0.0, 2, 8]\n",
    "\n",
    "\n",
    "mean_absolute_error(y_true, y_pred)\n",
    "\n",
    "\n",
    "y_true = [[0.5, 1], [-1, 1], [7, -6]]\n",
    "y_pred = [[0, 2], [-1, 2], [8, -5]]\n",
    "\n",
    "\n",
    "mean_absolute_error(y_true, y_pred) # 0.75\n",
    "mean_absolute_error(y_true, y_pred, multioutput='uniform_average') # 0.75\n",
    "\n",
    "\n",
    "mean_absolute_error(y_true, y_pred, multioutput='raw_values') # array([0.5, 1. ])"
   ]
  },
  {
   "cell_type": "markdown",
   "id": "e065e8c7",
   "metadata": {},
   "source": [
    "### 1.3.4\tmetrics.confusion_matrix"
   ]
  },
  {
   "cell_type": "code",
   "execution_count": 2,
   "id": "0beae0c4",
   "metadata": {},
   "outputs": [
    {
     "data": {
      "text/plain": [
       "array([[1, 2, 1],\n",
       "       [0, 1, 3],\n",
       "       [3, 1, 0]], dtype=int64)"
      ]
     },
     "execution_count": 2,
     "metadata": {},
     "output_type": "execute_result"
    }
   ],
   "source": [
    "from sklearn.metrics import confusion_matrix\n",
    "y_pred = ['a','a','b','b','a','b','a','a','a','a']\n",
    "y_true  = ['a','b','b','a','b','a','a','b','a','b']\n",
    "confusion_matrix(y_true, y_pred)\n",
    "\n",
    "#=======================================================================\n",
    "\n",
    "y_pred = ['a','b','c','a','b','c','a','b','c','a']\n",
    "y_true =  ['a','a','b','b','a','b','c','c','b','b']\n",
    "confusion_matrix(y_true, y_pred)\n",
    "\n",
    "#=======================================================================\n",
    "\n",
    "\n",
    "y_pred = [5,8,9,9,8,5,5,9,8,5,9,8]\n",
    "y_true =  [9,9,8,8,5,5,9,5,8,9,8,5]\n",
    "confusion_matrix(y_true, y_pred)"
   ]
  },
  {
   "cell_type": "code",
   "execution_count": 3,
   "id": "5b5473d6",
   "metadata": {},
   "outputs": [
    {
     "name": "stdout",
     "output_type": "stream",
     "text": [
      "Requirement already satisfied: seaborn in c:\\users\\olaab\\appdata\\local\\programs\\python\\python37\\lib\\site-packages (0.11.2)\n",
      "Requirement already satisfied: matplotlib>=2.2 in c:\\users\\olaab\\appdata\\local\\programs\\python\\python37\\lib\\site-packages (from seaborn) (3.5.1)\n",
      "Requirement already satisfied: scipy>=1.0 in c:\\users\\olaab\\appdata\\local\\programs\\python\\python37\\lib\\site-packages (from seaborn) (1.6.2)\n",
      "Requirement already satisfied: pandas>=0.23 in c:\\users\\olaab\\appdata\\local\\programs\\python\\python37\\lib\\site-packages (from seaborn) (1.1.5)\n",
      "Requirement already satisfied: numpy>=1.15 in c:\\users\\olaab\\appdata\\local\\programs\\python\\python37\\lib\\site-packages (from seaborn) (1.21.5)\n",
      "Requirement already satisfied: fonttools>=4.22.0 in c:\\users\\olaab\\appdata\\local\\programs\\python\\python37\\lib\\site-packages (from matplotlib>=2.2->seaborn) (4.29.1)\n",
      "Requirement already satisfied: pillow>=6.2.0 in c:\\users\\olaab\\appdata\\local\\programs\\python\\python37\\lib\\site-packages (from matplotlib>=2.2->seaborn) (9.0.0)\n",
      "Requirement already satisfied: python-dateutil>=2.7 in c:\\users\\olaab\\appdata\\local\\programs\\python\\python37\\lib\\site-packages (from matplotlib>=2.2->seaborn) (2.8.1)\n",
      "Requirement already satisfied: cycler>=0.10 in c:\\users\\olaab\\appdata\\local\\programs\\python\\python37\\lib\\site-packages (from matplotlib>=2.2->seaborn) (0.10.0)\n",
      "Requirement already satisfied: packaging>=20.0 in c:\\users\\olaab\\appdata\\local\\programs\\python\\python37\\lib\\site-packages (from matplotlib>=2.2->seaborn) (21.3)\n",
      "Requirement already satisfied: kiwisolver>=1.0.1 in c:\\users\\olaab\\appdata\\local\\programs\\python\\python37\\lib\\site-packages (from matplotlib>=2.2->seaborn) (1.3.1)\n",
      "Requirement already satisfied: pyparsing>=2.2.1 in c:\\users\\olaab\\appdata\\local\\programs\\python\\python37\\lib\\site-packages (from matplotlib>=2.2->seaborn) (2.4.7)\n",
      "Requirement already satisfied: pytz>=2017.2 in c:\\users\\olaab\\appdata\\local\\programs\\python\\python37\\lib\\site-packages (from pandas>=0.23->seaborn) (2021.3)\n",
      "Requirement already satisfied: six in c:\\users\\olaab\\appdata\\local\\programs\\python\\python37\\lib\\site-packages (from cycler>=0.10->matplotlib>=2.2->seaborn) (1.15.0)\n"
     ]
    }
   ],
   "source": [
    "! pip install seaborn"
   ]
  },
  {
   "cell_type": "code",
   "execution_count": 4,
   "id": "e1078169",
   "metadata": {},
   "outputs": [
    {
     "data": {
      "image/png": "[encoded data removed]",
      "text/plain": [
       "<Figure size 432x288 with 2 Axes>"
      ]
     },
     "metadata": {
      "needs_background": "light"
     },
     "output_type": "display_data"
    }
   ],
   "source": [
    "#Import Libraries\n",
    "from sklearn.metrics import confusion_matrix\n",
    "import seaborn as sns\n",
    "import matplotlib.pyplot as plt\n",
    "#----------------------------------------------------\n",
    "\n",
    "\n",
    "#Calculating Confusion Matrix\n",
    "CM = confusion_matrix(y_true, y_pred)\n",
    "#print('Confusion Matrix is : \\n', CM)\n",
    "\n",
    "# drawing confusion matrix\n",
    "sns.heatmap(CM, center = True)\n",
    "plt.show()"
   ]
  },
  {
   "cell_type": "markdown",
   "id": "7fc175f5",
   "metadata": {},
   "source": [
    "### 1.3.5\tmetrics.accuracy_score"
   ]
  },
  {
   "cell_type": "code",
   "execution_count": 5,
   "id": "b939cba7",
   "metadata": {},
   "outputs": [
    {
     "name": "stdout",
     "output_type": "stream",
     "text": [
      "0.6666666666666666\n",
      "4\n"
     ]
    }
   ],
   "source": [
    "from sklearn.metrics import accuracy_score\n",
    "y_pred = [0, 2, 1, 3,5,3]\n",
    "y_true = [0, 1, 2, 3,5,3]\n",
    "print(accuracy_score(y_true, y_pred)) # fraction of all Trues over everything\n",
    "print(accuracy_score(y_true, y_pred, normalize=False)) #number of all Trues\n"
   ]
  },
  {
   "cell_type": "markdown",
   "id": "9a16b38d",
   "metadata": {},
   "source": [
    "### 1.3.6\tmetrics.f1_score"
   ]
  },
  {
   "cell_type": "code",
   "execution_count": 6,
   "id": "cb6a51bc",
   "metadata": {},
   "outputs": [
    {
     "data": {
      "text/plain": [
       "0.3333333333333333"
      ]
     },
     "execution_count": 6,
     "metadata": {},
     "output_type": "execute_result"
    }
   ],
   "source": [
    "from sklearn.metrics import f1_score\n",
    "y_pred = [0, 2, 1, 0, 0, 1]\n",
    "y_true = [0, 1, 2, 0, 1, 2]\n",
    "\n",
    "#Calculating F1 Score  : 2 * (precision * recall) / (precision + recall)\n",
    "# f1_score(y_true, y_pred, labels=None, pos_label=1, average=’binary’, sample_weight=None)\n",
    "\n",
    "f1_score(y_true, y_pred, average='micro') #it can be : binary,macro,weighted,samples\n"
   ]
  },
  {
   "cell_type": "markdown",
   "id": "034e6878",
   "metadata": {},
   "source": [
    "### 1.3.7\tmetrics.recall_score"
   ]
  },
  {
   "cell_type": "code",
   "execution_count": 7,
   "id": "4ab0840e",
   "metadata": {},
   "outputs": [
    {
     "data": {
      "text/plain": [
       "array([0.33333333, 0.        , 0.        ])"
      ]
     },
     "execution_count": 7,
     "metadata": {},
     "output_type": "execute_result"
    }
   ],
   "source": [
    "from sklearn.metrics import recall_score\n",
    "y_pred =  ['a','b','c','a','b','c','a','b','c','a']\n",
    "y_true =   ['a','a','b','b','a','b','c','c','b','b']\n",
    "recall_score(y_true, y_pred, average=None)\n"
   ]
  },
  {
   "cell_type": "markdown",
   "id": "b38da88d",
   "metadata": {},
   "source": [
    "### 1.3.8\tmetrics.precision_score"
   ]
  },
  {
   "cell_type": "code",
   "execution_count": 8,
   "id": "3da3ea07",
   "metadata": {},
   "outputs": [
    {
     "data": {
      "text/plain": [
       "array([0.25, 0.  , 0.  ])"
      ]
     },
     "execution_count": 8,
     "metadata": {},
     "output_type": "execute_result"
    }
   ],
   "source": [
    "from sklearn.metrics import precision_score\n",
    " \n",
    "y_pred =  ['a','b','c','a','b','c','a','b','c','a']\n",
    "y_true =   ['a','a','b','b','a','b','c','c','b','b']\n",
    "\n",
    "precision_score(y_true, y_pred, average=None)\n"
   ]
  },
  {
   "cell_type": "markdown",
   "id": "3c8c1d4b",
   "metadata": {},
   "source": [
    "### 1.3.9\tmetrics.precision_recall_fscore_support"
   ]
  },
  {
   "cell_type": "code",
   "execution_count": 9,
   "id": "b0c693a9",
   "metadata": {},
   "outputs": [
    {
     "data": {
      "text/plain": [
       "(array([0.66666667, 0.        , 0.        ]),\n",
       " array([1., 0., 0.]),\n",
       " array([0.8, 0. , 0. ]),\n",
       " array([2, 2, 2], dtype=int64))"
      ]
     },
     "execution_count": 9,
     "metadata": {},
     "output_type": "execute_result"
    }
   ],
   "source": [
    "\n",
    "import numpy as np\n",
    "from sklearn.metrics import precision_recall_fscore_support\n",
    "y_pred = np.array(['cat', 'pig', 'dog', 'cat', 'cat', 'dog'])\n",
    "y_true =  np.array(['cat', 'dog', 'pig', 'cat', 'dog', 'pig'])\n",
    " \n",
    "precision_recall_fscore_support(y_true, y_pred, average=None)\n",
    "\n"
   ]
  },
  {
   "cell_type": "markdown",
   "id": "1e94c3f4",
   "metadata": {},
   "source": [
    "### 1.3.10\tmetrics.precision¬_recall_curve"
   ]
  },
  {
   "cell_type": "code",
   "execution_count": 10,
   "id": "41b15635",
   "metadata": {},
   "outputs": [
    {
     "name": "stdout",
     "output_type": "stream",
     "text": [
      "[0.66666667 0.5        1.         1.        ]\n",
      "[1.  0.5 0.5 0. ]\n",
      "[0.35 0.4  0.8 ]\n"
     ]
    }
   ],
   "source": [
    "import numpy as np\n",
    "from sklearn.metrics import precision_recall_curve\n",
    "y_pred =  np.array([0, 0, 1, 1])\n",
    "y_true =   np.array([0.1, 0.4, 0.35, 0.8])\n",
    "\n",
    "precision, recall, thresholds = precision_recall_curve(y_pred,y_true)\n",
    "\n",
    "print(precision)\n",
    "print(recall)\n",
    "print(thresholds)\n"
   ]
  },
  {
   "cell_type": "markdown",
   "id": "8f988262",
   "metadata": {},
   "source": [
    "### 1.3.11\tmetrics.classification_report"
   ]
  },
  {
   "cell_type": "code",
   "execution_count": 11,
   "id": "acedd8b4",
   "metadata": {},
   "outputs": [
    {
     "name": "stdout",
     "output_type": "stream",
     "text": [
      "              precision    recall  f1-score   support\n",
      "\n",
      "           0       0.33      1.00      0.50         1\n",
      "           1       0.00      0.00      0.00         1\n",
      "           2       1.00      0.67      0.80         3\n",
      "           5       0.00      0.00      0.00         1\n",
      "\n",
      "    accuracy                           0.50         6\n",
      "   macro avg       0.33      0.42      0.33         6\n",
      "weighted avg       0.56      0.50      0.48         6\n",
      "\n",
      "              precision    recall  f1-score   support\n",
      "\n",
      "           a       0.50      0.33      0.40         3\n",
      "           d       0.00      0.00      0.00         2\n",
      "           g       0.33      1.00      0.50         1\n",
      "\n",
      "    accuracy                           0.33         6\n",
      "   macro avg       0.28      0.44      0.30         6\n",
      "weighted avg       0.31      0.33      0.28         6\n",
      "\n"
     ]
    },
    {
     "name": "stderr",
     "output_type": "stream",
     "text": [
      "c:\\users\\olaab\\appdata\\local\\programs\\python\\python37\\lib\\site-packages\\sklearn\\metrics\\_classification.py:1268: UndefinedMetricWarning: Precision and F-score are ill-defined and being set to 0.0 in labels with no predicted samples. Use `zero_division` parameter to control this behavior.\n",
      "  _warn_prf(average, modifier, msg_start, len(result))\n"
     ]
    }
   ],
   "source": [
    "from sklearn.metrics import classification_report\n",
    "y_true = [0, 1, 2, 2, 2,5]\n",
    "y_pred = [0, 0, 2, 2, 1,0]\n",
    "print(classification_report(y_true, y_pred ))\n",
    "\n",
    "#==========================================================\n",
    "\n",
    "\n",
    "y_true = ['a','d','a','g','a','d']\n",
    "y_pred = ['a','a','g','g','d','g']\n",
    "print(classification_report(y_true, y_pred ))\n"
   ]
  },
  {
   "cell_type": "markdown",
   "id": "b27ac148",
   "metadata": {},
   "source": [
    "### 1.3.12\tmetrics.roc_curve"
   ]
  },
  {
   "cell_type": "code",
   "execution_count": 12,
   "id": "a686f144",
   "metadata": {},
   "outputs": [],
   "source": [
    "\n",
    "import numpy as np\n",
    "from sklearn import metrics\n",
    "y =      np.array([1    , 1     , 2     , 2])\n",
    "scores = np.array([0.1  , 0.4   ,   0.35, 0.8])\n",
    "fpr, tpr, thresholds = metrics.roc_curve(y, scores, pos_label=2)\n",
    "\n"
   ]
  },
  {
   "cell_type": "markdown",
   "id": "b291a9c0",
   "metadata": {},
   "source": [
    "### 1.3.13\t metrics.auc"
   ]
  },
  {
   "cell_type": "code",
   "execution_count": 13,
   "id": "c2d3b86d",
   "metadata": {},
   "outputs": [
    {
     "data": {
      "text/plain": [
       "0.75"
      ]
     },
     "execution_count": 13,
     "metadata": {},
     "output_type": "execute_result"
    }
   ],
   "source": [
    "import numpy as np\n",
    "from sklearn import metrics\n",
    "y =      np.array([1    , 1     , 2     , 2])\n",
    "scores = np.array([0.1  , 0.4   ,   0.35, 0.8])\n",
    "fpr, tpr, thresholds = metrics.roc_curve(y, scores, pos_label=2)\n",
    "\n",
    "metrics.auc(fpr, tpr)\n"
   ]
  },
  {
   "cell_type": "markdown",
   "id": "fc5ecd4c",
   "metadata": {},
   "source": [
    "### 1.3.14\t metrics.roc_auc_score"
   ]
  },
  {
   "cell_type": "code",
   "execution_count": 14,
   "id": "326c4298",
   "metadata": {},
   "outputs": [
    {
     "data": {
      "text/plain": [
       "0.75"
      ]
     },
     "execution_count": 14,
     "metadata": {},
     "output_type": "execute_result"
    }
   ],
   "source": [
    "import numpy as np\n",
    "from sklearn import metrics\n",
    "y =      np.array([1    , 1     , 2     , 2])\n",
    "scores = np.array([0.1  , 0.4   ,   0.35, 0.8])\n",
    "metrics.roc_auc_score(y, scores)\n"
   ]
  },
  {
   "cell_type": "markdown",
   "id": "dc84faef",
   "metadata": {},
   "source": [
    "### 1.3.15\t metrics.zero_one_loss"
   ]
  },
  {
   "cell_type": "code",
   "execution_count": 15,
   "id": "a664031f",
   "metadata": {},
   "outputs": [
    {
     "data": {
      "text/plain": [
       "1"
      ]
     },
     "execution_count": 15,
     "metadata": {},
     "output_type": "execute_result"
    }
   ],
   "source": [
    "from sklearn.metrics import zero_one_loss\n",
    "y_pred = [1, 2, 3, 4]\n",
    "y_true = [2, 2, 3, 4]\n",
    "\n",
    "zero_one_loss(y_true, y_pred)\n",
    "\n",
    "\n",
    "zero_one_loss(y_true, y_pred, normalize=False)\n"
   ]
  }
 ],
 "metadata": {
  "kernelspec": {
   "display_name": "Python 3 (ipykernel)",
   "language": "python",
   "name": "python3"
  },
  "language_info": {
   "codemirror_mode": {
    "name": "ipython",
    "version": 3
   },
   "file_extension": ".py",
   "mimetype": "text/x-python",
   "name": "python",
   "nbconvert_exporter": "python",
   "pygments_lexer": "ipython3",
   "version": "3.7.0"
  }
 },
 "nbformat": 4,
 "nbformat_minor": 5
}
