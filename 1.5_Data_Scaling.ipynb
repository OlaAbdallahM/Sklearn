{
 "cells": [
  {
   "cell_type": "markdown",
   "id": "38100385",
   "metadata": {},
   "source": [
    "### 1.5.1_Standard_Scaler (Standardization)"
   ]
  },
  {
   "cell_type": "code",
   "execution_count": 1,
   "id": "b2ba50eb",
   "metadata": {},
   "outputs": [
    {
     "name": "stdout",
     "output_type": "stream",
     "text": [
      "X \n",
      " [[ 1.09706398e+00 -2.07333501e+00  1.26993369e+00  9.84374905e-01\n",
      "   1.56846633e+00  3.28351467e+00  2.65287398e+00  2.53247522e+00\n",
      "   2.21751501e+00  2.25574689e+00  2.48973393e+00 -5.65265059e-01\n",
      "   2.83303087e+00  2.48757756e+00 -2.14001647e-01  1.31686157e+00\n",
      "   7.24026158e-01  6.60819941e-01  1.14875667e+00  9.07083081e-01\n",
      "   1.88668963e+00 -1.35929347e+00  2.30360062e+00  2.00123749e+00\n",
      "   1.30768627e+00  2.61666502e+00  2.10952635e+00  2.29607613e+00\n",
      "   2.75062224e+00  1.93701461e+00]\n",
      " [ 1.82982061e+00 -3.53632408e-01  1.68595471e+00  1.90870825e+00\n",
      "  -8.26962447e-01 -4.87071673e-01 -2.38458552e-02  5.48144156e-01\n",
      "   1.39236330e-03 -8.68652457e-01  4.99254601e-01 -8.76243603e-01\n",
      "   2.63326966e-01  7.42401948e-01 -6.05350847e-01 -6.92926270e-01\n",
      "  -4.40780058e-01  2.60162067e-01 -8.05450380e-01 -9.94437403e-02\n",
      "   1.80592744e+00 -3.69203222e-01  1.53512599e+00  1.89048899e+00\n",
      "  -3.75611957e-01 -4.30444219e-01 -1.46748968e-01  1.08708430e+00\n",
      "  -2.43889668e-01  2.81189987e-01]\n",
      " [ 1.57988811e+00  4.56186952e-01  1.56650313e+00  1.55888363e+00\n",
      "   9.42210440e-01  1.05292554e+00  1.36347845e+00  2.03723076e+00\n",
      "   9.39684817e-01 -3.98007910e-01  1.22867595e+00 -7.80083377e-01\n",
      "   8.50928301e-01  1.18133606e+00 -2.97005012e-01  8.14973504e-01\n",
      "   2.13076435e-01  1.42482747e+00  2.37035535e-01  2.93559404e-01\n",
      "   1.51187025e+00 -2.39743838e-02  1.34747521e+00  1.45628455e+00\n",
      "   5.27407405e-01  1.08293217e+00  8.54973944e-01  1.95500035e+00\n",
      "   1.15225500e+00  2.01391209e-01]\n",
      " [-7.68909287e-01  2.53732112e-01 -5.92687167e-01 -7.64463792e-01\n",
      "   3.28355348e+00  3.40290899e+00  1.91589718e+00  1.45170736e+00\n",
      "   2.86738293e+00  4.91091929e+00  3.26373441e-01 -1.10409044e-01\n",
      "   2.86593405e-01 -2.88378148e-01  6.89701660e-01  2.74428041e+00\n",
      "   8.19518384e-01  1.11500701e+00  4.73268037e+00  2.04751088e+00\n",
      "  -2.81464464e-01  1.33984094e-01 -2.49939304e-01 -5.50021228e-01\n",
      "   3.39427470e+00  3.89339743e+00  1.98958826e+00  2.17578601e+00\n",
      "   6.04604135e+00  4.93501034e+00]\n",
      " [ 1.75029663e+00 -1.15181643e+00  1.77657315e+00  1.82622928e+00\n",
      "   2.80371830e-01  5.39340452e-01  1.37101143e+00  1.42849277e+00\n",
      "  -9.56046689e-03 -5.62449981e-01  1.27054278e+00 -7.90243702e-01\n",
      "   1.27318941e+00  1.19035676e+00  1.48306716e+00 -4.85198799e-02\n",
      "   8.28470780e-01  1.14420474e+00 -3.61092272e-01  4.99328134e-01\n",
      "   1.29857524e+00 -1.46677038e+00  1.33853946e+00  1.22072425e+00\n",
      "   2.20556166e-01 -3.13394511e-01  6.13178758e-01  7.29259257e-01\n",
      "  -8.68352984e-01 -3.97099619e-01]\n",
      " [-4.76374665e-01 -8.35335303e-01 -3.87148067e-01 -5.05650454e-01\n",
      "   2.23742148e+00  1.24433549e+00  8.66301596e-01  8.24655646e-01\n",
      "   1.00540180e+00  1.89000504e+00 -2.55070294e-01 -5.92661652e-01\n",
      "  -3.21304185e-01 -2.89258217e-01  1.56346702e-01  4.45543649e-01\n",
      "   1.60025198e-01 -6.91235537e-02  1.34118807e-01  4.86845840e-01\n",
      "  -1.65498247e-01 -3.13836333e-01 -1.15009456e-01 -2.44320208e-01\n",
      "   2.04851283e+00  1.72161644e+00  1.26324320e+00  9.05887786e-01\n",
      "   1.75406939e+00  2.24180161e+00]\n",
      " [ 1.17090767e+00  1.60649427e-01  1.13812505e+00  1.09529491e+00\n",
      "  -1.23136226e-01  8.82952423e-02  3.00072399e-01  6.46935108e-01\n",
      "  -6.43246179e-02 -7.62332153e-01  1.49883071e-01 -8.04939888e-01\n",
      "   1.55410293e-01  2.98627465e-01 -9.09029826e-01 -6.51568010e-01\n",
      "  -3.10141387e-01 -2.28089026e-01 -8.29666081e-01 -6.11217806e-01\n",
      "   1.36898330e+00  3.22882892e-01  1.36832530e+00  1.27521954e+00\n",
      "   5.18640227e-01  2.12149800e-02  5.09552250e-01  1.19671580e+00\n",
      "   2.62475664e-01 -1.47304787e-02]\n",
      " [-1.18516778e-01  3.58450132e-01 -7.28668396e-02 -2.18964911e-01\n",
      "   1.60404905e+00  1.14010235e+00  6.10257495e-02  2.81950258e-01\n",
      "   1.40335463e+00  1.66035318e+00  6.43623001e-01  2.90560957e-01\n",
      "   4.90050986e-01  2.33722421e-01  5.88030871e-01  2.68932704e-01\n",
      "  -2.32553954e-01  4.35348506e-01 -6.88004232e-01  6.11668783e-01\n",
      "   1.63762976e-01  4.01047912e-01  9.94485804e-02  2.88594274e-02\n",
      "   1.44796112e+00  7.24785507e-01 -2.10538519e-02  6.24195735e-01\n",
      "   4.77640485e-01  1.72643451e+00]\n",
      " [-3.20166857e-01  5.88829778e-01 -1.84080380e-01 -3.84207273e-01\n",
      "   2.20183876e+00  1.68400981e+00  1.21909628e+00  1.15069158e+00\n",
      "   1.96559991e+00  1.57246173e+00 -3.56850016e-01 -3.89818004e-01\n",
      "  -2.27743400e-01 -3.52403123e-01 -4.36677342e-01  5.33290226e-01\n",
      "   1.20568341e-01  7.52430487e-02  1.07481537e-01 -1.73631991e-02\n",
      "  -1.61356597e-01  8.22813332e-01 -3.16091086e-02 -2.48363407e-01\n",
      "   1.66275699e+00  1.81830968e+00  1.28003453e+00  1.39161624e+00\n",
      "   2.38985717e+00  1.28864955e+00]\n",
      " [-4.73534523e-01  1.10543868e+00 -3.29481787e-01 -5.09063378e-01\n",
      "   1.58269942e+00  2.56335845e+00  1.73887209e+00  9.41760326e-01\n",
      "   7.97298024e-01  2.78309559e+00 -3.88250143e-01  6.93345302e-01\n",
      "  -4.09419634e-01 -3.60763773e-01  3.60084898e-02  2.60958662e+00\n",
      "   1.50984760e+00  4.09394960e-01 -3.21136366e-01  2.37734605e+00\n",
      "  -2.44189609e-01  2.44310906e+00 -2.86278027e-01 -2.97409172e-01\n",
      "   2.32029536e+00  5.11287727e+00  3.99543285e+00  1.62001520e+00\n",
      "   2.37044380e+00  6.84685604e+00]]\n",
      "y \n",
      " [0 0 0 0 0 0 0 0 0 0]\n"
     ]
    }
   ],
   "source": [
    "from sklearn.datasets import load_breast_cancer\n",
    "from sklearn.preprocessing import StandardScaler\n",
    "\n",
    "BreastData=load_breast_cancer()\n",
    "\n",
    "X=BreastData.data\n",
    "y=BreastData.target\n",
    "\n",
    "scaler = StandardScaler(copy=True, with_mean=True, with_std=True)\n",
    "X = scaler.fit_transform(X)\n",
    "\n",
    "#showing data\n",
    "print('X \\n' , X[:10])\n",
    "print('y \\n' , y[:10])\n"
   ]
  },
  {
   "cell_type": "code",
   "execution_count": 2,
   "id": "0230940a",
   "metadata": {},
   "outputs": [
    {
     "name": "stdout",
     "output_type": "stream",
     "text": [
      "[0.5 0.5]\n",
      "[[-1. -1.]\n",
      " [-1. -1.]\n",
      " [ 1.  1.]\n",
      " [ 1.  1.]]\n",
      "[[-1. -1.]\n",
      " [-1. -1.]\n",
      " [ 1.  1.]\n",
      " [ 1.  1.]]\n"
     ]
    }
   ],
   "source": [
    "from sklearn.preprocessing import StandardScaler\n",
    "data = [[0, 0], [0, 0], [1, 1], [1, 1]]\n",
    "scaler = StandardScaler()\n",
    "scaler.fit(data)\n",
    "print(scaler.mean_)\n",
    "newdata = scaler.transform(data)\n",
    "print(newdata)\n",
    "\n",
    "newdata = scaler.fit_transform(data) \n",
    "print(newdata)\n"
   ]
  },
  {
   "cell_type": "markdown",
   "id": "19b576d9",
   "metadata": {},
   "source": [
    "### 1.5.2_MinMaxScaler (Normalization)"
   ]
  },
  {
   "cell_type": "code",
   "execution_count": 3,
   "id": "27e48979",
   "metadata": {},
   "outputs": [
    {
     "name": "stdout",
     "output_type": "stream",
     "text": [
      "[ 2. 16.]\n",
      "[-1.  2.]\n",
      "[ 1. 18.]\n",
      "[[0.   0.  ]\n",
      " [0.25 0.25]\n",
      " [0.5  0.5 ]\n",
      " [1.   1.  ]]\n",
      "[[0.   0.  ]\n",
      " [0.25 0.25]\n",
      " [0.5  0.5 ]\n",
      " [1.   1.  ]]\n"
     ]
    }
   ],
   "source": [
    "from sklearn.preprocessing import MinMaxScaler\n",
    "data = [[-1, 2], [-0.5, 6], [0, 10], [1, 18]]\n",
    "scaler = MinMaxScaler()\n",
    "scaler.fit(data)\n",
    "print(scaler.data_range_)\n",
    "print(scaler.data_min_)\n",
    "print(scaler.data_max_)\n",
    "newdata = scaler.transform(data)\n",
    "print(newdata)\n",
    "\n",
    "\n",
    "\n",
    "newdata = scaler.fit_transform(data)\n",
    "print(newdata)\n",
    "\n",
    "\n",
    "scaler = MinMaxScaler(feature_range = (1,5))\n"
   ]
  },
  {
   "cell_type": "markdown",
   "id": "7bd6e4b8",
   "metadata": {},
   "source": [
    "### 1.5.3_Normalizer"
   ]
  },
  {
   "cell_type": "code",
   "execution_count": 4,
   "id": "b89f25fa",
   "metadata": {},
   "outputs": [
    {
     "data": {
      "text/plain": [
       "array([[1.        , 0.25      , 0.5       , 0.5       ],\n",
       "       [0.11111111, 0.33333333, 1.        , 0.33333333],\n",
       "       [0.71428571, 1.        , 0.71428571, 0.14285714]])"
      ]
     },
     "execution_count": 4,
     "metadata": {},
     "output_type": "execute_result"
    }
   ],
   "source": [
    "from sklearn.preprocessing import Normalizer\n",
    "X = [[4, 1, 2, 2], [1, 3, 9, 3], [5, 7, 5, 1]]\n",
    "\n",
    "\n",
    "#transformer = Normalizer(norm='l1' )\n",
    "\n",
    "#transformer = Normalizer(norm='l2' )\n",
    "\n",
    "transformer = Normalizer(norm='max' )\n",
    "\n",
    "transformer.fit(X)\n",
    "transformer.transform(X)"
   ]
  },
  {
   "cell_type": "markdown",
   "id": "8501b085",
   "metadata": {},
   "source": [
    "### 1.5.4_MaxAbsScaler"
   ]
  },
  {
   "cell_type": "code",
   "execution_count": 5,
   "id": "df51ff55",
   "metadata": {},
   "outputs": [
    {
     "data": {
      "text/plain": [
       "array([[ 0.2,  1. ,  1. ],\n",
       "       [ 0.4,  0. ,  0. ],\n",
       "       [ 1. ,  0.1, -0.5]])"
      ]
     },
     "execution_count": 5,
     "metadata": {},
     "output_type": "execute_result"
    }
   ],
   "source": [
    "from sklearn.preprocessing import MaxAbsScaler\n",
    "X = [[ 1., 10., 2.],\n",
    "     [ 2., 0., 0.],\n",
    "     [ 5., 1., -1.]]\n",
    "transformer = MaxAbsScaler().fit(X)\n",
    "transformer\n",
    "transformer.transform(X)\n"
   ]
  },
  {
   "cell_type": "markdown",
   "id": "ae26e0de",
   "metadata": {},
   "source": [
    "### 1.5.5_FunctionTransformer"
   ]
  },
  {
   "cell_type": "code",
   "execution_count": 6,
   "id": "0f430c37",
   "metadata": {},
   "outputs": [
    {
     "data": {
      "text/plain": [
       "array([[2.        , 1.        , 1.41421356, 1.41421356],\n",
       "       [1.        , 1.73205081, 3.        , 1.73205081],\n",
       "       [2.23606798, 2.64575131, 2.23606798, 1.        ]])"
      ]
     },
     "execution_count": 6,
     "metadata": {},
     "output_type": "execute_result"
    }
   ],
   "source": [
    "import numpy as np\n",
    "from sklearn.preprocessing import FunctionTransformer\n",
    "\n",
    "X = [[4, 1, 2, 2], [1, 3, 9, 3], [5, 7, 5, 1]]\n",
    "\n",
    "def function1(z):\n",
    "    return np.sqrt(z)\n",
    "\n",
    "FT = FunctionTransformer(func = function1)\n",
    "FT.fit(X)\n",
    "newdata = FT.transform(X)\n",
    "newdata\n"
   ]
  },
  {
   "cell_type": "markdown",
   "id": "16804402",
   "metadata": {},
   "source": [
    "### 1.5.6_Binarizer"
   ]
  },
  {
   "cell_type": "code",
   "execution_count": 7,
   "id": "91f9e95c",
   "metadata": {},
   "outputs": [
    {
     "data": {
      "text/plain": [
       "array([[0., 0., 0.],\n",
       "       [1., 0., 0.],\n",
       "       [0., 0., 0.]])"
      ]
     },
     "execution_count": 7,
     "metadata": {},
     "output_type": "execute_result"
    }
   ],
   "source": [
    "from sklearn.preprocessing import Binarizer\n",
    "X = [[ 1., -1., -2.],[ 2., 0., -1.], [ 0., 1., -1.]]\n",
    "\n",
    "transformer = Binarizer(threshold=1.5 ) \n",
    "transformer.fit(X)\n",
    "\n",
    "transformer\n",
    "\n",
    "transformer.transform(X)\n"
   ]
  },
  {
   "cell_type": "markdown",
   "id": "593575ad",
   "metadata": {},
   "source": [
    "### 1.5.7_PolynomialFeatures"
   ]
  },
  {
   "cell_type": "code",
   "execution_count": 9,
   "id": "7789791f",
   "metadata": {},
   "outputs": [
    {
     "data": {
      "text/plain": [
       "array([[ 1.,  0.,  1.,  0.],\n",
       "       [ 1.,  2.,  3.,  6.],\n",
       "       [ 1.,  4.,  5., 20.]])"
      ]
     },
     "execution_count": 9,
     "metadata": {},
     "output_type": "execute_result"
    }
   ],
   "source": [
    "import numpy as np\n",
    "from sklearn.preprocessing import PolynomialFeatures\n",
    "X = np.arange(6).reshape(3, 2)\n",
    "\n",
    "\n",
    "poly = PolynomialFeatures(degree=2 , include_bias = True)\n",
    "poly.fit_transform(X)\n",
    "\n",
    "\n",
    "\n",
    "poly = PolynomialFeatures(interaction_only=True)\n",
    "poly.fit_transform(X)\n"
   ]
  },
  {
   "cell_type": "code",
   "execution_count": null,
   "id": "f745a3b9",
   "metadata": {},
   "outputs": [],
   "source": []
  }
 ],
 "metadata": {
  "kernelspec": {
   "display_name": "Python 3 (ipykernel)",
   "language": "python",
   "name": "python3"
  },
  "language_info": {
   "codemirror_mode": {
    "name": "ipython",
    "version": 3
   },
   "file_extension": ".py",
   "mimetype": "text/x-python",
   "name": "python",
   "nbconvert_exporter": "python",
   "pygments_lexer": "ipython3",
   "version": "3.7.0"
  }
 },
 "nbformat": 4,
 "nbformat_minor": 5
}
