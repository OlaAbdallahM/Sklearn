{
  "cells": [
    {
      "cell_type": "markdown",
      "metadata": {
        "id": "view-in-github",
        "colab_type": "text"
      },
      "source": [
        "<a href=\"https://colab.research.google.com/github/OlaAbdallahM/Sklearn/blob/main/Untitled21.ipynb\" target=\"_parent\"><img src=\"https://colab.research.google.com/assets/colab-badge.svg\" alt=\"Open In Colab\"/></a>"
      ]
    },
    {
      "cell_type": "code",
      "execution_count": null,
      "metadata": {
        "colab": {
          "base_uri": "https://localhost:8080/",
          "height": 339
        },
        "id": "BDrgwXntp5mV",
        "outputId": "867e31ad-e494-463b-93ef-8fadc3a2d259"
      },
      "outputs": [
        {
          "ename": "ModuleNotFoundError",
          "evalue": "ignored",
          "output_type": "error",
          "traceback": [
            "\u001b[0;31m---------------------------------------------------------------------------\u001b[0m",
            "\u001b[0;31mModuleNotFoundError\u001b[0m                       Traceback (most recent call last)",
            "\u001b[0;32m<ipython-input-3-b73b1904b3c5>\u001b[0m in \u001b[0;36m<cell line: 3>\u001b[0;34m()\u001b[0m\n\u001b[1;32m      1\u001b[0m \u001b[0;32mimport\u001b[0m \u001b[0mtensorflow\u001b[0m\u001b[0;34m\u001b[0m\u001b[0;34m\u001b[0m\u001b[0m\n\u001b[1;32m      2\u001b[0m \u001b[0;32mfrom\u001b[0m \u001b[0mtensorflow\u001b[0m\u001b[0;34m.\u001b[0m\u001b[0mkeras\u001b[0m\u001b[0;34m.\u001b[0m\u001b[0mlayers\u001b[0m \u001b[0;32mimport\u001b[0m \u001b[0mInput\u001b[0m\u001b[0;34m,\u001b[0m\u001b[0mConv2D\u001b[0m\u001b[0;34m,\u001b[0m\u001b[0mMaxPooling2D\u001b[0m\u001b[0;34m,\u001b[0m\u001b[0mFlatten\u001b[0m\u001b[0;34m,\u001b[0m\u001b[0mDense\u001b[0m\u001b[0;34m\u001b[0m\u001b[0;34m\u001b[0m\u001b[0m\n\u001b[0;32m----> 3\u001b[0;31m \u001b[0;32mfrom\u001b[0m \u001b[0mtensorflow\u001b[0m\u001b[0;34m.\u001b[0m\u001b[0mkeras\u001b[0m\u001b[0;34m.\u001b[0m\u001b[0mmodel\u001b[0m \u001b[0;32mimport\u001b[0m \u001b[0mModel\u001b[0m\u001b[0;34m\u001b[0m\u001b[0;34m\u001b[0m\u001b[0m\n\u001b[0m",
            "\u001b[0;31mModuleNotFoundError\u001b[0m: No module named 'tensorflow.keras.model'",
            "",
            "\u001b[0;31m---------------------------------------------------------------------------\u001b[0;32m\nNOTE: If your import is failing due to a missing package, you can\nmanually install dependencies using either !pip or !apt.\n\nTo view examples of installing some common dependencies, click the\n\"Open Examples\" button below.\n\u001b[0;31m---------------------------------------------------------------------------\u001b[0m\n"
          ]
        }
      ],
      "source": [
        "import tensorflow \n",
        "from tensorflow.keras.layers import Input,Conv2D,MaxPooling2D,Flatten,Dense,Dropout\n",
        "from tensorflow.keras.model import Model\n"
      ]
    },
    {
      "cell_type": "code",
      "execution_count": null,
      "metadata": {
        "id": "qt1CaboYq137"
      },
      "outputs": [],
      "source": [
        "vgg16=keras.models.Sequential([\n",
        "    Conv2D(64,3,activation='relu',padding='same',input_shape(224,224,3)),\n",
        "    Conv2D(64,3,activation='relu',padding='same'),\n",
        "    MaxPooling2D(),\n",
        "    Conv2D(128,3,activation='relu',padding='same'),\n",
        "    Conv2D(128,3,activation='relu',padding='same'),\n",
        "    MaxPooling2D(),\n",
        "    Conv2D(256,3,activation='relu',padding='same'),\n",
        "    Conv2D(256,3,activation='relu',padding='same'),\n",
        "    MaxPooling2D(),\n",
        "    Conv2D(512,3,activation='relu',padding='same'),\n",
        "    Conv2D(512,3,activation='relu',padding='same'),\n",
        "    MaxPooling2D(),\n",
        "    Conv2D(512,3,activation='relu',padding='same'),\n",
        "    Conv2D(512,3,activation='relu',padding='same'),\n",
        "    MaxPooling2D(),\n",
        "    Flatten(),\n",
        "    Dense(4096),\n",
        "    Dropout(0.5),\n",
        "    Dense(4096),\n",
        "    Dropout(0.5).\n",
        "    Dense(1000)\n",
        "\n",
        "])"
      ]
    },
    {
      "cell_type": "code",
      "execution_count": null,
      "metadata": {
        "id": "6iNhG9qIxVmn"
      },
      "outputs": [],
      "source": [
        "from tensorflow import keras\n",
        "from tensorflow.keras.layers import Conv2D, MaxPooling2D, Flatten, Dense, Dropout"
      ]
    },
    {
      "cell_type": "code",
      "execution_count": null,
      "metadata": {
        "id": "0itXLLLvxbgQ"
      },
      "outputs": [],
      "source": [
        "(X_train, y_train), (X_test, y_test) = keras.datasets.cifar10.load_data()"
      ]
    },
    {
      "cell_type": "code",
      "execution_count": null,
      "metadata": {
        "id": "PY2j0u0hw1Ch"
      },
      "outputs": [],
      "source": [
        "vgg16 = keras.models.Sequential([\n",
        "    Conv2D(64,3,activation='relu',padding='same',input_shape=(32,32,3)),\n",
        "    Conv2D(64,3,activation='relu',padding='same'),\n",
        "    MaxPooling2D(),\n",
        "    Conv2D(128,3,activation='relu',padding='same'),\n",
        "    Conv2D(128,3,activation='relu',padding='same'),\n",
        "    MaxPooling2D(),\n",
        "    Conv2D(256,3,activation='relu',padding='same'),\n",
        "    Conv2D(256,3,activation='relu',padding='same'),\n",
        "    MaxPooling2D(),\n",
        "    Conv2D(512,3,activation='relu',padding='same'),\n",
        "    Conv2D(512,3,activation='relu',padding='same'),\n",
        "    MaxPooling2D(),\n",
        "    Conv2D(512,3,activation='relu',padding='same'),\n",
        "    Conv2D(512,3,activation='relu',padding='same'),\n",
        "    MaxPooling2D(),\n",
        "    Flatten(),\n",
        "    Dense(4096),\n",
        "    Dropout(0),\n",
        "    Dense(4096),\n",
        "    Dropout(0),\n",
        "    Dense(10,activation='softmax')\n",
        "])\n"
      ]
    },
    {
      "cell_type": "code",
      "execution_count": null,
      "metadata": {
        "id": "PxspxUMSyLxE"
      },
      "outputs": [],
      "source": [
        " vgg16.compile(loss='sparse_categorical_crossentropy',metrics=['acc'],optimizer=keras.optimizers.RMSprop(0.0001))"
      ]
    },
    {
      "cell_type": "code",
      "execution_count": null,
      "metadata": {
        "colab": {
          "base_uri": "https://localhost:8080/"
        },
        "id": "IMggFoCPyhGF",
        "outputId": "9aa54d5e-ce38-467c-cfb8-901a23ed46b5"
      },
      "outputs": [
        {
          "name": "stdout",
          "output_type": "stream",
          "text": [
            "Model: \"sequential\"\n",
            "_________________________________________________________________\n",
            " Layer (type)                Output Shape              Param #   \n",
            "=================================================================\n",
            " conv2d (Conv2D)             (None, 32, 32, 64)        1792      \n",
            "                                                                 \n",
            " conv2d_1 (Conv2D)           (None, 32, 32, 64)        36928     \n",
            "                                                                 \n",
            " max_pooling2d (MaxPooling2D  (None, 16, 16, 64)       0         \n",
            " )                                                               \n",
            "                                                                 \n",
            " conv2d_2 (Conv2D)           (None, 16, 16, 128)       73856     \n",
            "                                                                 \n",
            " conv2d_3 (Conv2D)           (None, 16, 16, 128)       147584    \n",
            "                                                                 \n",
            " max_pooling2d_1 (MaxPooling  (None, 8, 8, 128)        0         \n",
            " 2D)                                                             \n",
            "                                                                 \n",
            " conv2d_4 (Conv2D)           (None, 8, 8, 256)         295168    \n",
            "                                                                 \n",
            " conv2d_5 (Conv2D)           (None, 8, 8, 256)         590080    \n",
            "                                                                 \n",
            " max_pooling2d_2 (MaxPooling  (None, 4, 4, 256)        0         \n",
            " 2D)                                                             \n",
            "                                                                 \n",
            " conv2d_6 (Conv2D)           (None, 4, 4, 512)         1180160   \n",
            "                                                                 \n",
            " conv2d_7 (Conv2D)           (None, 4, 4, 512)         2359808   \n",
            "                                                                 \n",
            " max_pooling2d_3 (MaxPooling  (None, 2, 2, 512)        0         \n",
            " 2D)                                                             \n",
            "                                                                 \n",
            " conv2d_8 (Conv2D)           (None, 2, 2, 512)         2359808   \n",
            "                                                                 \n",
            " conv2d_9 (Conv2D)           (None, 2, 2, 512)         2359808   \n",
            "                                                                 \n",
            " max_pooling2d_4 (MaxPooling  (None, 1, 1, 512)        0         \n",
            " 2D)                                                             \n",
            "                                                                 \n",
            " flatten (Flatten)           (None, 512)               0         \n",
            "                                                                 \n",
            " dense (Dense)               (None, 4096)              2101248   \n",
            "                                                                 \n",
            " dropout (Dropout)           (None, 4096)              0         \n",
            "                                                                 \n",
            " dense_1 (Dense)             (None, 4096)              16781312  \n",
            "                                                                 \n",
            " dropout_1 (Dropout)         (None, 4096)              0         \n",
            "                                                                 \n",
            " dense_2 (Dense)             (None, 10)                40970     \n",
            "                                                                 \n",
            "=================================================================\n",
            "Total params: 28,328,522\n",
            "Trainable params: 28,328,522\n",
            "Non-trainable params: 0\n",
            "_________________________________________________________________\n"
          ]
        }
      ],
      "source": [
        "vgg16.summary()"
      ]
    },
    {
      "cell_type": "code",
      "execution_count": null,
      "metadata": {
        "colab": {
          "background_save": true,
          "base_uri": "https://localhost:8080/"
        },
        "id": "KOhqRqF4yjWe",
        "outputId": "db1ff879-0f76-4d47-b6e8-66e480592c82"
      },
      "outputs": [
        {
          "name": "stdout",
          "output_type": "stream",
          "text": [
            "Epoch 1/10\n",
            "1563/1563 [==============================] - 4496s 3s/step - loss: 1.5966 - acc: 0.4232 - val_loss: 1.2796 - val_acc: 0.5445\n",
            "Epoch 2/10\n",
            " 328/1563 [=====>........................] - ETA: 56:34 - loss: 1.1741 - acc: 0.5844"
          ]
        }
      ],
      "source": [
        "vgg16.fit(X_train, y_train,validation_data=(X_test, y_test),epochs=10,batch_size=32)"
      ]
    },
    {
      "cell_type": "code",
      "execution_count": null,
      "metadata": {
        "id": "K5qWnG017XWC"
      },
      "outputs": [],
      "source": [
        "inputs=keras.layers.Input(shape(32,32,3))"
      ]
    },
    {
      "cell_type": "code",
      "execution_count": null,
      "metadata": {
        "id": "SFlopYCm8El1"
      },
      "outputs": [],
      "source": [
        "c1=Conv2D(64,7,2,activation='relu',padding='same')(inputs)\n",
        "c1=MaxPooling2D(3,2)(c1)\n",
        "c2=Conv2D(64,3,activation='relu',padding='same')(c1)\n",
        "c3=Conv2D(64,3,activation='relu',padding='same')(c2)\n",
        "c3=c1+c3\n",
        "c3=Conv2D(64,3,activation='relu',padding='same')(c3)\n",
        "c4=Conv2D(64,3,activation='relu',padding='same')(c4)\n"
      ]
    },
    {
      "cell_type": "code",
      "execution_count": null,
      "metadata": {
        "id": "FtaIIOrC5uhb"
      },
      "outputs": [],
      "source": [
        "ResNet=keras.models.model(inputs=inputs,outputs=outputs)\n",
        "    \n",
        "    Conv2D(64,7,2,activation='relu'),\n",
        "    BatchNormalization(),\n",
        "     MaxPooling2D(3,2),\n",
        "])"
      ]
    }
  ],
  "metadata": {
    "colab": {
      "provenance": [],
      "authorship_tag": "ABX9TyO8X3D8OnkNulyRkOcSTk6e",
      "include_colab_link": true
    },
    "kernelspec": {
      "display_name": "Python 3",
      "name": "python3"
    },
    "language_info": {
      "name": "python"
    }
  },
  "nbformat": 4,
  "nbformat_minor": 0
}