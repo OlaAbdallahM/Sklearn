{
 "cells": [
  {
   "cell_type": "markdown",
   "id": "f778f9b7",
   "metadata": {},
   "source": [
    "### 1.4.1_Select_Percentile"
   ]
  },
  {
   "cell_type": "code",
   "execution_count": 18,
   "id": "fe573d9b",
   "metadata": {},
   "outputs": [
    {
     "name": "stdout",
     "output_type": "stream",
     "text": [
      "Selected features are :  [False False  True  True False False False False False False False False\n",
      " False  True False False False False False False  True False  True  True\n",
      " False False False False False False]\n"
     ]
    }
   ],
   "source": [
    "from sklearn.datasets import load_breast_cancer\n",
    "from sklearn.feature_selection import SelectPercentile\n",
    "from sklearn.feature_selection import chi2 ,f_classif\n",
    "\n",
    "BreastData=load_breast_cancer()\n",
    "\n",
    "X=BreastData.data\n",
    "y=BreastData.target\n",
    "\n",
    "FeatureSelection =SelectPercentile(score_func=chi2,percentile=20)\n",
    "\n",
    "X=FeatureSelection.fit_transform(X,y)\n",
    "\n",
    "print('Selected features are : ',FeatureSelection.get_support())"
   ]
  },
  {
   "cell_type": "code",
   "execution_count": 8,
   "id": "a84c85e9",
   "metadata": {},
   "outputs": [
    {
     "name": "stdout",
     "output_type": "stream",
     "text": [
      "(1797, 64)\n",
      "(1797, 7)\n"
     ]
    }
   ],
   "source": [
    "from sklearn.datasets import load_digits\n",
    "from sklearn.feature_selection import SelectPercentile,chi2\n",
    "\n",
    "X,y=load_digits(return_X_y=True)\n",
    "\n",
    "print(X.shape)\n",
    "\n",
    "X_new=SelectPercentile(score_func=chi2,percentile=10).fit_transform(X,y)\n",
    "\n",
    "print(X_new.shape)\n"
   ]
  },
  {
   "cell_type": "markdown",
   "id": "f7e7a9a8",
   "metadata": {},
   "source": [
    "### 1.4.2_Generic_Univariate_Select"
   ]
  },
  {
   "cell_type": "code",
   "execution_count": 10,
   "id": "39c7900f",
   "metadata": {},
   "outputs": [
    {
     "name": "stdout",
     "output_type": "stream",
     "text": [
      "Selected features are :  [False False False  True False False False False False False False False\n",
      " False  True False False False False False False False False False  True\n",
      " False False False False False False]\n"
     ]
    }
   ],
   "source": [
    "from sklearn.datasets import load_breast_cancer\n",
    "from sklearn.feature_selection import GenericUnivariateSelect\n",
    "from sklearn.feature_selection import chi2 ,f_classif\n",
    "\n",
    "BreastData=load_breast_cancer()\n",
    "\n",
    "X=BreastData.data\n",
    "y=BreastData.target\n",
    "\n",
    "FeatureSelection =GenericUnivariateSelect(score_func=chi2,mode='k_best',param=3)\n",
    "\n",
    "X=FeatureSelection.fit_transform(X,y)\n",
    "\n",
    "print('Selected features are : ',FeatureSelection.get_support())"
   ]
  },
  {
   "cell_type": "markdown",
   "id": "021cb72d",
   "metadata": {},
   "source": [
    "### 1.4.3_Select_KBest"
   ]
  },
  {
   "cell_type": "code",
   "execution_count": 11,
   "id": "f07e5b59",
   "metadata": {},
   "outputs": [
    {
     "name": "stdout",
     "output_type": "stream",
     "text": [
      "Selected features are :  [False False False  True False False False False False False False False\n",
      " False  True False False False False False False False False False  True\n",
      " False False False False False False]\n"
     ]
    }
   ],
   "source": [
    "from sklearn.datasets import load_breast_cancer\n",
    "from sklearn.feature_selection import SelectKBest\n",
    "from sklearn.feature_selection import chi2 ,f_classif\n",
    "\n",
    "BreastData=load_breast_cancer()\n",
    "\n",
    "X=BreastData.data\n",
    "y=BreastData.target\n",
    "\n",
    "FeatureSelection =SelectKBest(score_func=chi2,k=3)\n",
    "\n",
    "X=FeatureSelection.fit_transform(X,y)\n",
    "\n",
    "print('Selected features are : ',FeatureSelection.get_support())"
   ]
  },
  {
   "cell_type": "markdown",
   "id": "40ea9a62",
   "metadata": {},
   "source": [
    "### 1.4.4_Select_From_Model"
   ]
  },
  {
   "cell_type": "code",
   "execution_count": 17,
   "id": "ff549a11",
   "metadata": {},
   "outputs": [
    {
     "name": "stdout",
     "output_type": "stream",
     "text": [
      "Selected features are :  [ True False False  True False False  True  True False False False False\n",
      " False  True False False False False False False False False  True  True\n",
      " False False False  True False False]\n"
     ]
    }
   ],
   "source": [
    "from sklearn.datasets import load_breast_cancer\n",
    "from sklearn.feature_selection import SelectFromModel\n",
    "from sklearn.ensemble import RandomForestClassifier\n",
    "from sklearn.feature_selection import chi2 ,f_classif\n",
    "\n",
    "BreastData=load_breast_cancer()\n",
    "\n",
    "X=BreastData.data\n",
    "y=BreastData.target\n",
    "\n",
    "FeatureSelection =SelectFromModel(RandomForestClassifier(n_estimators=20),max_features=None)\n",
    "\n",
    "X=FeatureSelection.fit_transform(X,y)\n",
    "\n",
    "print('Selected features are : ',FeatureSelection.get_support())"
   ]
  }
 ],
 "metadata": {
  "kernelspec": {
   "display_name": "Python 3 (ipykernel)",
   "language": "python",
   "name": "python3"
  },
  "language_info": {
   "codemirror_mode": {
    "name": "ipython",
    "version": 3
   },
   "file_extension": ".py",
   "mimetype": "text/x-python",
   "name": "python",
   "nbconvert_exporter": "python",
   "pygments_lexer": "ipython3",
   "version": "3.7.0"
  }
 },
 "nbformat": 4,
 "nbformat_minor": 5
}
